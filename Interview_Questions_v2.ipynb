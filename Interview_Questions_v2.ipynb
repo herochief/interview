{
 "cells": [
  {
   "cell_type": "markdown",
   "metadata": {},
   "source": [
    "# PYTHON QUESTIONS"
   ]
  },
  {
   "cell_type": "markdown",
   "metadata": {},
   "source": [
    "<hr style=\"border:2px solid gray\">"
   ]
  },
  {
   "cell_type": "markdown",
   "metadata": {},
   "source": [
    "\n",
    "### Question 1.1: Lists and Indices\n",
    "\n",
    "Write a Python program to display the first and last colors from the following list.\n",
    "\n",
    "```\n",
    "color_list = [\"Red\", \"Green\", \"White\", \"Black\"]\n",
    "```"
   ]
  },
  {
   "cell_type": "code",
   "execution_count": null,
   "metadata": {},
   "outputs": [],
   "source": [
    "### Question 1.1 Answer ###\n",
    "\n",
    "color_list = [\"Red\", \"Green\", \"White\", \"Black\"]\n",
    "print(color_list[0])   \n",
    "print(color_list[-1]) "
   ]
  },
  {
   "cell_type": "markdown",
   "metadata": {},
   "source": [
    "---\n",
    "###  Question 1.2: Library and User Input\n",
    "\n",
    "Write a Python program that calculates the area of a circle. The radius is input by the user."
   ]
  },
  {
   "cell_type": "code",
   "execution_count": null,
   "metadata": {},
   "outputs": [],
   "source": [
    "### Question 1.2 Answer ###\n",
    "import math\n",
    "r = float(input(\"Enter radius of circle: \"))    \n",
    "area = r**2 * math.pi\n",
    "print(\"The area is \",area)    \n"
   ]
  },
  {
   "cell_type": "markdown",
   "metadata": {},
   "source": [
    "---\n",
    "###  Question 1.3: Loops and Conditionals\n",
    "Write a program to count and display the number of <u>**s**</u> in the following string.\n",
    "\n",
    "> \"Seven silly snakes slithered slowly in the sun\"\n"
   ]
  },
  {
   "cell_type": "code",
   "execution_count": null,
   "metadata": {},
   "outputs": [],
   "source": [
    "### Question 1.3 Answer ###\n",
    "\n",
    "for i in sentence:\n",
    "    if i == 's':\n",
    "        count += 1\n",
    "\n",
    "print('There are',count,'s')"
   ]
  },
  {
   "cell_type": "markdown",
   "metadata": {},
   "source": [
    "---\n",
    "###  Question 1.4: Functions\n",
    "\n",
    "Write a Python function that takes the sides of a right-angle triangle and returns the hypotenuse.\n",
    "\n",
    "Hypotenuse formular: $c^{2}=a^{2}+b^{2}$"
   ]
  },
  {
   "cell_type": "code",
   "execution_count": null,
   "metadata": {},
   "outputs": [],
   "source": [
    "### Question 1.4 Answer ###\n",
    "\n",
    "import math\n",
    "\n",
    "def calculate_hypotenuse(a,b):\n",
    "    c_sq = a**2 + b**2\n",
    "    c = math.sqrt(c_sq)\n",
    "    return c\n",
    "\n",
    "a=3\n",
    "b=4\n",
    "hypotenuse = calculate_hypotenuse(a,b)\n",
    "print('The Value of the is hypotenuse:')\n",
    "print(hypotenuse)"
   ]
  },
  {
   "cell_type": "markdown",
   "metadata": {},
   "source": [
    "---\n",
    "\n",
    "###  Question 1.5: Dictionaries\n",
    "\n",
    "1. Create a dictionary with a **name** and **age** keys.\n",
    "2. Individually display the value of the key.\n",
    "\n",
    "Example:\n",
    "John turned 15 last month.\n"
   ]
  },
  {
   "cell_type": "code",
   "execution_count": null,
   "metadata": {},
   "outputs": [],
   "source": [
    "### Question 1.5 Answer ###\n",
    "\n",
    "thisdict = {\n",
    "  \"name\": \"John\",\n",
    "  \"age\": 15\n",
    "}\n",
    "\n",
    "print(thisdict['name'])\n",
    "print(thisdict['age'])"
   ]
  },
  {
   "cell_type": "markdown",
   "metadata": {},
   "source": [
    "---\n",
    "\n",
    "###  Question 1.6: Classes\n",
    "Write a Python class named `Rectangle`. \\\n",
    "This class should have two attributes: `width` and `height`. \\\n",
    "Show the `width` and `height`from the class.\n",
    "\n",
    "Optional: \\\n",
    "Add two methods: `area()` and `perimeter()` that will return the corresponding values."
   ]
  },
  {
   "cell_type": "code",
   "execution_count": null,
   "metadata": {},
   "outputs": [],
   "source": [
    "### Question 1.6 Answer ###\n",
    "\n",
    "class Rectangle:\n",
    "    def __init__(self,width,height):\n",
    "        self.width = width\n",
    "        self.height = height\n",
    "    \n",
    "    def area(self):\n",
    "        a = self.width * self.height\n",
    "        print('The area of the rectangle is', a )\n",
    "        return a\n",
    "    \n",
    "    def perimeter(self):\n",
    "        a = (self.width + self.height) * 2\n",
    "        print('The perimeter of the rectangle is', a )\n",
    "        return a\n",
    "\n",
    "rect = Rectangle(5,6)\n",
    "\n",
    "print(rect.width)\n",
    "print(rect.height)\n",
    "print(rect.area())\n",
    "print(rect.perimeter())"
   ]
  },
  {
   "cell_type": "markdown",
   "metadata": {},
   "source": [
    "<hr style=\"border:2px solid gray\">"
   ]
  },
  {
   "cell_type": "markdown",
   "metadata": {},
   "source": [
    "###  Question 2.1: Factorial\n",
    "\n",
    "Write a Python function that can calculate the factorial of a number.\n",
    "\n",
    "Example: \\\n",
    "n! = 1 x 2 x 3 x.....x (n-1) x (n) "
   ]
  },
  {
   "cell_type": "code",
   "execution_count": null,
   "metadata": {},
   "outputs": [],
   "source": [
    "### Question 2.1 Answer ###\n",
    "\n",
    "def factorial(n):\n",
    "    if n == 0 or n == 1:\n",
    "        return 1\n",
    "    else:\n",
    "        num = 1\n",
    "        for i in range(2,n+1):\n",
    "            num *= i\n",
    "        return num\n",
    "\n",
    "n = int(input(\"Input n: \"))\n",
    "result = factorial(n)\n",
    "print(\"The factorial of\", n, \"is\", result)"
   ]
  },
  {
   "cell_type": "markdown",
   "metadata": {},
   "source": [
    "---\n",
    "###  Question 2.2: FizzBuzz\n",
    "Write a Python program to print the numbers 1 to 99 in ascending order line by line. \\\n",
    "However, if the number is divisible by 3, it should be replaced with \"Fizz\". \\\n",
    "If the number is divisible by 5, it should be replaced with \"Buzz\". \\\n",
    "If the number is divisible by both 3 and 5, it should be replaced with \"FizzBuzz\".\n",
    "\n",
    "For example, the output should look like:\n",
    "\n",
    "```\n",
    "1\n",
    "2\n",
    "Fizz\n",
    "4\n",
    "Buzz\n",
    "Fizz\n",
    "7\n",
    "8\n",
    "Fizz\n",
    "Buzz\n",
    "11\n",
    "Fizz\n",
    "13\n",
    "14\n",
    "FizzBuzz\n",
    "```"
   ]
  },
  {
   "cell_type": "code",
   "execution_count": null,
   "metadata": {},
   "outputs": [],
   "source": [
    "### Question 2.2 Answer ###\n",
    "\n",
    "for i in range(1, 100):\n",
    "  if i % 15 == 0:\n",
    "    print(\"FizzBuzz\")\n",
    "  elif i % 3 == 0:\n",
    "    print(\"Fizz\")"
   ]
  },
  {
   "cell_type": "markdown",
   "metadata": {},
   "source": [
    "---\n",
    "###  Question 2.3: Star Pyramid\n",
    "\n",
    "Write a Python function that takes a value **n** and then output a pyramid of * with **n** layers.\n",
    "\n",
    "Example:\n",
    "\n",
    "```\n",
    "n = 5\n",
    "pyramid(n)\n",
    "\n",
    "```\n",
    "\n",
    "Output:\n",
    "\n",
    "```\n",
    "    *    \n",
    "   ***   \n",
    "  *****  \n",
    " ******* \n",
    "*********\n",
    "```"
   ]
  },
  {
   "cell_type": "code",
   "execution_count": 32,
   "metadata": {},
   "outputs": [
    {
     "name": "stdout",
     "output_type": "stream",
     "text": [
      "    *    \n",
      "   ***   \n",
      "  *****  \n",
      " ******* \n",
      "*********\n"
     ]
    }
   ],
   "source": [
    "### Question 2.3 Answer ###\n",
    "\n",
    "def pyramid(n):\n",
    "    length = n * 2 -1\n",
    "    for i in range(1,n+1):\n",
    "        num_of_stars= (i*2-1)\n",
    "        star = \"*\" * num_of_stars\n",
    "        diff = int((length-num_of_stars)/2)\n",
    "        layer = (' ' * diff)  +  star  + (' ' * diff)\n",
    "        print(layer)\n",
    "\n",
    "pyramid(5)"
   ]
  },
  {
   "cell_type": "code",
   "execution_count": null,
   "metadata": {},
   "outputs": [],
   "source": []
  }
 ],
 "metadata": {
  "interpreter": {
   "hash": "488dde0390183c08fe30498919431ac8802d9f654b8e63c6d7d6ef2d45ec04f0"
  },
  "kernelspec": {
   "display_name": "Python 3",
   "language": "python",
   "name": "python3"
  },
  "language_info": {
   "codemirror_mode": {
    "name": "ipython",
    "version": 3
   },
   "file_extension": ".py",
   "mimetype": "text/x-python",
   "name": "python",
   "nbconvert_exporter": "python",
   "pygments_lexer": "ipython3",
   "version": "3.8.5"
  }
 },
 "nbformat": 4,
 "nbformat_minor": 2
}
